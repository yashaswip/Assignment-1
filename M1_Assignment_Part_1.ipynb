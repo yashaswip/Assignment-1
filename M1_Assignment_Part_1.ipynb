{
 "cells": [
  {
   "cell_type": "markdown",
   "metadata": {
    "colab_type": "text",
    "id": "view-in-github"
   },
   "source": [
    "<a href=\"https://colab.research.google.com/github/Natural-Language-Processing-YU/Module-1-Assignment/blob/main/M1_Assignment_Part_1.ipynb\" target=\"_parent\"><img src=\"https://colab.research.google.com/assets/colab-badge.svg\" alt=\"Open In Colab\"/></a>"
   ]
  },
  {
   "cell_type": "markdown",
   "metadata": {
    "id": "URHO-Uji2koG"
   },
   "source": [
    "# M1 Assignment: Text Processing and Edit Distance \n",
    "\n",
    "In this section we will be exploring how to preprocess tweets . We will provide a function for preprocessing tweets during this week's assignment, but it is still good to know what is going on under the hood. By the end of this assignment, you will see how to use the [NLTK](http://www.nltk.org) package to perform a preprocessing pipeline for Twitter datasets."
   ]
  },
  {
   "cell_type": "markdown",
   "metadata": {
    "id": "cVg-26AV2koP"
   },
   "source": [
    "## Setup\n",
    "Eventually, you will conduct a sentiment analysis on Tweets. To help with that, we will be using the Natural Language Toolkit (NLTK) package, an open-source Python library for natural language processing. In this library you will use the NLTK to assist with processing the tweet to clean it for interpretation. \n",
    "\n",
    "In Part 1.1, you will extract a set of Elon Musk tweets. Next in Part 1.2, you will process the tweets using the various processing tasks outlined in the section and Chapter 2 of Jurafsky and Martin. Finally, in Part 1.3, you will create a simple version of a Levensthein distance formula to run the edit distance between two matrices. \n",
    "\n",
    "As part of completing the assignment, you will see that there are areas in the note book for you to complete your own coding input. \n",
    "\n",
    "It will be look like following: \n",
    "```\n",
    "### START CODE HERE (REPLACE INSTANCES OF 'None' with your code) ###\n",
    "'Some coding activity for you to complete'\n",
    "### END CODE HERE ###\n",
    "\n",
    "```"
   ]
  },
  {
   "cell_type": "markdown",
   "metadata": {
    "id": "MYLzCpw62fYi"
   },
   "source": [
    "Additionally, you will be using custom media and libraries created and stored for your in your Colab environment.\n"
   ]
  },
  {
   "cell_type": "markdown",
   "metadata": {
    "id": "td35EC362koR"
   },
   "source": [
    "## Part 1.1: Using tweetsts\n",
    "\n",
    "---\n",
    "\n"
   ]
  },
  {
   "cell_type": "markdown",
   "metadata": {
    "id": "hzNDoS1P2koY"
   },
   "source": [
    "### Extracting tweets\n",
    "In this next section, we're going to import Elon Musk's tweets and prepare them to preprocess. Use the following code to connect to the M1 Assignment Repo and download it to your Google Colab Account\n",
    "\n"
   ]
  },
  {
   "cell_type": "markdown",
   "metadata": {
    "id": "Md_LSWJUud-U"
   },
   "source": [
    "Use the pandas library to create a dataframe with the csv file full owf twees. "
   ]
  },
  {
   "cell_type": "code",
   "execution_count": 3,
   "metadata": {
    "colab": {
     "base_uri": "https://localhost:8080/"
    },
    "id": "W308paKm2kob",
    "outputId": "bccfc60a-0fe8-40e6-9dd3-dcd590878d46"
   },
   "outputs": [
    {
     "name": "stdout",
     "output_type": "stream",
     "text": [
      "id             int64\n",
      "created_at    object\n",
      "text          object\n",
      "dtype: object\n",
      "0       b'And so the robots spared humanity ... https:...\n",
      "1       b\"@ForIn2020 @waltmossberg @mims @defcon_5 Exa...\n",
      "2           b'@waltmossberg @mims @defcon_5 Et tu, Walt?'\n",
      "3                     b'Stormy weather in Shortville ...'\n",
      "4       b\"@DaveLeeBBC @verge Coal is dying due to nat ...\n",
      "                              ...                        \n",
      "2814                 b'That was a total non sequitur btw'\n",
      "2815    b'Great Voltaire quote, arguably better than T...\n",
      "2816    b'I made the volume on the Model S http://t.co...\n",
      "2817    b\"Went to Iceland on Sat to ride bumper cars o...\n",
      "2818    b'Please ignore prior tweets, as that was some...\n",
      "Name: text, Length: 2819, dtype: object\n"
     ]
    }
   ],
   "source": [
    "#extract the tweets\n",
    "import pandas as pd\n",
    "\n",
    "tweets = pd.read_csv('/Users/yashaswipatki/Downloads/elonmusk_tweets.csv') #import file\n",
    "print(tweets.dtypes) #print data types\n",
    "print(tweets.text) #show tweets from file\n",
    "df = pd.DataFrame(tweets)\n",
    "\n"
   ]
  },
  {
   "cell_type": "markdown",
   "metadata": {
    "id": "S2kk1YB-2koa"
   },
   "source": [
    "## Part 1.2: Preprocessing the text from tweets\n",
    "Text processing is one of the critical steps in an NLP project and in data scenience and analytics. It includes cleaning and formatting the data before feeding an algorithm. For NLP, the preprocessing steps are comprised of the following tasks:\n",
    "\n",
    "1. Tokenizing the string\n",
    "2. Lowercasing\n",
    "3. Removing stop words and punctuation\n",
    "4. Stemming\n",
    "\n",
    "We will take this approach with a selected tweet that we returned from above see how this is transformed by each preprocessing step.\n",
    "\n",
    "Let's take one of the tweets and apply preprocessing steps"
   ]
  },
  {
   "cell_type": "markdown",
   "metadata": {
    "id": "fry6Eqa9ryXa"
   },
   "source": [
    "Let's take a look at one tweet from our dataframe:"
   ]
  },
  {
   "cell_type": "code",
   "execution_count": 4,
   "metadata": {
    "colab": {
     "base_uri": "https://localhost:8080/"
    },
    "id": "vl2W0slVr2RS",
    "outputId": "c7c3d07f-c39d-490b-a2b9-ecdbf83666a9"
   },
   "outputs": [
    {
     "name": "stdout",
     "output_type": "stream",
     "text": [
      "\u001b[92mb'I made the volume on the Model S http://t.co/wMCnT53M go to 11.  Now I just need to work in a miniature Stonehenge...'\n"
     ]
    }
   ],
   "source": [
    "print('\\033[92m' + df['text'][2816])"
   ]
  },
  {
   "cell_type": "markdown",
   "metadata": {
    "id": "E2Ii7mmr2kod"
   },
   "source": [
    "### Remove hyperlinks, hashtags, and beginngin of strings\n",
    "Using this tweet, let's clean it up to remove unncessary information. First, we will use regex to remove hyperlinks. You will create the regex substring to remove hyperlinks, hashtabs and the start of a tweet line.  "
   ]
  },
  {
   "cell_type": "code",
   "execution_count": 23,
   "metadata": {},
   "outputs": [
    {
     "name": "stdout",
     "output_type": "stream",
     "text": [
      "\u001b[92mI made the volume on the Model S  go to 11.  Now I just need to work in a miniature Stonehenge...'\n"
     ]
    },
    {
     "name": "stderr",
     "output_type": "stream",
     "text": [
      "/var/folders/0r/hpvzswss2wnfzk1f7lzvn2m40000gn/T/ipykernel_2505/2124363179.py:6: SettingWithCopyWarning: \n",
      "A value is trying to be set on a copy of a slice from a DataFrame\n",
      "\n",
      "See the caveats in the documentation: https://pandas.pydata.org/pandas-docs/stable/user_guide/indexing.html#returning-a-view-versus-a-copy\n",
      "  df['text'][2816] = re.sub(regex_remove_hyperlinks, '', df['text'][2816])\n",
      "/var/folders/0r/hpvzswss2wnfzk1f7lzvn2m40000gn/T/ipykernel_2505/2124363179.py:10: SettingWithCopyWarning: \n",
      "A value is trying to be set on a copy of a slice from a DataFrame\n",
      "\n",
      "See the caveats in the documentation: https://pandas.pydata.org/pandas-docs/stable/user_guide/indexing.html#returning-a-view-versus-a-copy\n",
      "  df['text'][2816] = re.sub(regex_hash, '', df['text'][2816])\n",
      "/var/folders/0r/hpvzswss2wnfzk1f7lzvn2m40000gn/T/ipykernel_2505/2124363179.py:14: SettingWithCopyWarning: \n",
      "A value is trying to be set on a copy of a slice from a DataFrame\n",
      "\n",
      "See the caveats in the documentation: https://pandas.pydata.org/pandas-docs/stable/user_guide/indexing.html#returning-a-view-versus-a-copy\n",
      "  df['text'][2816] = re.sub(regex_string_beginning, '', df['text'][2816])\n"
     ]
    }
   ],
   "source": [
    "import re  # Import the regular expression module\n",
    "\n",
    "### ### START CODE HERE (REPLACE INSTANCES OF 'None' with your code) ###\n",
    "# Create regex for hyperlinks\n",
    "regex_remove_hyperlinks = r'https?:\\/\\/(?:www\\.)?[-a-zA-Z0-9@:%._\\+~#=]{2,256}\\.[a-z]{2,6}\\b([-a-zA-Z0-9@:%_\\+.~#?&//=]*)'\n",
    "df['text'][2816] = re.sub(regex_remove_hyperlinks, '', df['text'][2816])\n",
    "\n",
    "# Remove hashtags (only the # sign)\n",
    "regex_hash = r'#'\n",
    "df['text'][2816] = re.sub(regex_hash, '', df['text'][2816])\n",
    "\n",
    "# Remove 'b from each string\n",
    "regex_string_beginning = r\"^b['\\\"]\"\n",
    "df['text'][2816] = re.sub(regex_string_beginning, '', df['text'][2816])\n",
    "### END CODE HERE ###\n",
    "\n",
    "# Print the modified tweet\n",
    "print('\\033[92m' + df['text'][2816])"
   ]
  },
  {
   "cell_type": "markdown",
   "metadata": {
    "id": "8X5-erZasQzI"
   },
   "source": [
    "#Using NLTK Libraries\n",
    "\n",
    "Now let's use the NLTK libraries to remove stopwords, tokenize, and stem the words. \n",
    "\n",
    "The Porter stemming algorithm, also known as the Porter stemmer, is a widely used algorithm for stemming words in natural language processing (NLP). It is named after its creator, Martin Porter. The goal of stemming is to reduce words to their base or root form, which helps to normalize variations of a word and reduce the vocabulary size."
   ]
  },
  {
   "cell_type": "code",
   "execution_count": 24,
   "metadata": {
    "id": "8ZoSOGaW2koc"
   },
   "outputs": [],
   "source": [
    "import nltk                                # Python library for NLP\n",
    "import re                                  # library for regular expression operations\n",
    "import string                              # for string operations\n",
    "\n",
    "from nltk.corpus import stopwords          # module for stop words that come with NLTK\n",
    "from nltk.stem import PorterStemmer        # module for stemming\n",
    "from nltk.tokenize import TweetTokenizer   # module for tokenizing strings"
   ]
  },
  {
   "cell_type": "code",
   "execution_count": 25,
   "metadata": {
    "colab": {
     "base_uri": "https://localhost:8080/"
    },
    "id": "xgaZcBmu2koc",
    "outputId": "b16b8d2a-c6df-40c1-cfc3-6e10ceb91d7a"
   },
   "outputs": [
    {
     "name": "stderr",
     "output_type": "stream",
     "text": [
      "[nltk_data] Downloading package stopwords to\n",
      "[nltk_data]     /Users/yashaswipatki/nltk_data...\n",
      "[nltk_data]   Package stopwords is already up-to-date!\n"
     ]
    },
    {
     "data": {
      "text/plain": [
       "True"
      ]
     },
     "execution_count": 25,
     "metadata": {},
     "output_type": "execute_result"
    }
   ],
   "source": [
    "# download the stopwords from NLTK\n",
    "nltk.download('stopwords')"
   ]
  },
  {
   "cell_type": "markdown",
   "metadata": {
    "id": "tMBLZmjp2koe"
   },
   "source": [
    "### Tokenize the string\n",
    "\n",
    "To tokenize means to split the strings into individual words without blanks or tabs. In this same step, we will also convert each word in the string to lower case. The [tokenize](https://www.nltk.org/api/nltk.tokenize.html#module-nltk.tokenize.casual) module from NLTK allows us to do these easily:"
   ]
  },
  {
   "cell_type": "code",
   "execution_count": 26,
   "metadata": {
    "id": "QD2ub7Dl2koe"
   },
   "outputs": [
    {
     "name": "stdout",
     "output_type": "stream",
     "text": [
      "['i', 'made', 'the', 'volume', 'on', 'the', 'model', 's', 'go', 'to', '11', '.', 'now', 'i', 'just', 'need', 'to', 'work', 'in', 'a', 'miniature', 'stonehenge', '...', \"'\"]\n"
     ]
    }
   ],
   "source": [
    "# instantiate tokenizer class\n",
    "tokenizer = TweetTokenizer(preserve_case=False, strip_handles=True,\n",
    "                               reduce_len=True)\n",
    "\n",
    "# tokenize tweets\n",
    "tokenized_tweet = tokenizer.tokenize(str(df['text'][2816]))\n",
    "\n",
    "\n",
    "print(tokenized_tweet)"
   ]
  },
  {
   "cell_type": "markdown",
   "metadata": {
    "id": "rv8jxMlK2kof"
   },
   "source": [
    "### Remove stop words and punctuations\n",
    "\n",
    "The next step is to remove stop words and miscelleneous punctuations. Stop words are words that do not have semantic meaning to the tweet. There is a library of stopwords built into NLTK. The list provided by NLTK when you run the cells below."
   ]
  },
  {
   "cell_type": "code",
   "execution_count": 28,
   "metadata": {
    "colab": {
     "base_uri": "https://localhost:8080/"
    },
    "id": "weMOqHRp2kof",
    "outputId": "9eaf80b7-0592-462e-83a1-1a2808b9b806"
   },
   "outputs": [
    {
     "name": "stdout",
     "output_type": "stream",
     "text": [
      "Stop words\n",
      "\n",
      "['i', 'me', 'my', 'myself', 'we', 'our', 'ours', 'ourselves', 'you', \"you're\", \"you've\", \"you'll\", \"you'd\", 'your', 'yours', 'yourself', 'yourselves', 'he', 'him', 'his', 'himself', 'she', \"she's\", 'her', 'hers', 'herself', 'it', \"it's\", 'its', 'itself', 'they', 'them', 'their', 'theirs', 'themselves', 'what', 'which', 'who', 'whom', 'this', 'that', \"that'll\", 'these', 'those', 'am', 'is', 'are', 'was', 'were', 'be', 'been', 'being', 'have', 'has', 'had', 'having', 'do', 'does', 'did', 'doing', 'a', 'an', 'the', 'and', 'but', 'if', 'or', 'because', 'as', 'until', 'while', 'of', 'at', 'by', 'for', 'with', 'about', 'against', 'between', 'into', 'through', 'during', 'before', 'after', 'above', 'below', 'to', 'from', 'up', 'down', 'in', 'out', 'on', 'off', 'over', 'under', 'again', 'further', 'then', 'once', 'here', 'there', 'when', 'where', 'why', 'how', 'all', 'any', 'both', 'each', 'few', 'more', 'most', 'other', 'some', 'such', 'no', 'nor', 'not', 'only', 'own', 'same', 'so', 'than', 'too', 'very', 's', 't', 'can', 'will', 'just', 'don', \"don't\", 'should', \"should've\", 'now', 'd', 'll', 'm', 'o', 're', 've', 'y', 'ain', 'aren', \"aren't\", 'couldn', \"couldn't\", 'didn', \"didn't\", 'doesn', \"doesn't\", 'hadn', \"hadn't\", 'hasn', \"hasn't\", 'haven', \"haven't\", 'isn', \"isn't\", 'ma', 'mightn', \"mightn't\", 'mustn', \"mustn't\", 'needn', \"needn't\", 'shan', \"shan't\", 'shouldn', \"shouldn't\", 'wasn', \"wasn't\", 'weren', \"weren't\", 'won', \"won't\", 'wouldn', \"wouldn't\"]\n",
      "\n",
      "Punctuation\n",
      "\n",
      "!\"#$%&'()*+,-./:;<=>?@[\\]^_`{|}~\n"
     ]
    }
   ],
   "source": [
    "#Import the english stop words list from NLTK\n",
    "stopwords_english = stopwords.words('english') \n",
    "\n",
    "print('Stop words\\n')\n",
    "print(stopwords_english)\n",
    "\n",
    "print('\\nPunctuation\\n')\n",
    "print(string.punctuation)"
   ]
  },
  {
   "cell_type": "markdown",
   "metadata": {
    "id": "23rvPhYz2kof"
   },
   "source": [
    "We can see that the stop words list above contains some words that could be important in some contexts. \n",
    "These could be words like _i, not, between, because, won, against_. In some cases, you may want to update this dictionary of stop words to suit your needs. \n",
    "\n",
    "Certain groupings like ':)' and '...'  should be retained when dealing with tweets because they are used to express emotions, but in some cases they should be removed.\n"
   ]
  },
  {
   "cell_type": "code",
   "execution_count": 32,
   "metadata": {
    "colab": {
     "base_uri": "https://localhost:8080/"
    },
    "id": "5Jnynu5K2kog",
    "outputId": "0211ca48-d08b-488f-addc-177325745259"
   },
   "outputs": [
    {
     "name": "stdout",
     "output_type": "stream",
     "text": [
      "removed stop words and punctuation:\n",
      "['made', 'volume', 'model', 'go', '11', 'need', 'work', 'miniature', 'stonehenge', '...']\n"
     ]
    }
   ],
   "source": [
    "df2=df\n",
    "tweets_clean = []\n",
    "\n",
    "for word in tokenized_tweet: # Go through every word in your tokens list\n",
    "    if (word not in stopwords_english and  # remove stopwords\n",
    "        word not in string.punctuation):  # remove punctuation\n",
    "        tweets_clean.append(word)\n",
    "\n",
    "print('removed stop words and punctuation:')\n",
    "print(tweets_clean)"
   ]
  },
  {
   "cell_type": "markdown",
   "metadata": {
    "id": "Wse80ZKUrASY"
   },
   "source": [
    "Next, we use porter stemmer to stem words. \n",
    "\n",
    "            stem_word = stemmer.stem(word)  # stemming word\n",
    "            tweets_clean.append(stem_word)"
   ]
  },
  {
   "cell_type": "code",
   "execution_count": 30,
   "metadata": {
    "id": "Nwq8pacZrLXg"
   },
   "outputs": [
    {
     "name": "stdout",
     "output_type": "stream",
     "text": [
      "['made', 'volume', 'model', 'go', '11', 'need', 'work', 'miniature', 'stonehenge', '...', 'i', 'made', 'the', 'volum', 'on', 'the', 'model', 's', 'go', 'to', '11', '.', 'now', 'i', 'just', 'need', 'to', 'work', 'in', 'a', 'miniatur', 'stoneheng', '...', \"'\"]\n"
     ]
    }
   ],
   "source": [
    "import nltk\n",
    "from nltk.stem import PorterStemmer\n",
    "\n",
    "stemmer = PorterStemmer()\n",
    "for word in tokenized_tweet:\n",
    "    stem_word = stemmer.stem(word)  \n",
    "    tweets_clean.append(stem_word)\n",
    "print(tweets_clean)"
   ]
  },
  {
   "cell_type": "markdown",
   "metadata": {
    "id": "9quRejfi2kog"
   },
   "source": [
    "## preprocess_tweet()\n",
    "\n",
    "As shown above, preprocessing consists of multiple steps before you arrive at the final list of words.  In the week's assignment, write a function called `preprocess_tweet()`. \n",
    "\n",
    "Then, use this to iterate through the dataframe and preprocess each tweet into a new column. \n",
    "\n",
    "Print your results. \n"
   ]
  },
  {
   "cell_type": "code",
   "execution_count": 38,
   "metadata": {
    "id": "frUPXf542koh"
   },
   "outputs": [],
   "source": [
    "### START CODE HERE (REPLACE INSTANCES OF 'None' with your code) ###\n",
    "\n",
    "def preprocess_tweet(tweet):\n",
    "    \"\"\"Process tweet function.\n",
    "    Input:\n",
    "        tweet: a string containing a tweet\n",
    "    Output:\n",
    "        tweets_clean: a list of words containing the processed tweet\n",
    "\n",
    "    \"\"\"\n",
    "    # Remove hyperlinks\n",
    "    tweet = re.sub(r'https?:\\/\\/(?:www\\.)?[-a-zA-Z0-9@:%._\\+~#=]{2,256}\\.[a-z]{2,6}\\b([-a-zA-Z0-9@:%_\\+.~#?&//=]*)', '', tweet)\n",
    "\n",
    "    \n",
    "    # Remove 'b' or \"b from the beginning of the string\n",
    "    tweet = re.sub(r\"^b['\\\"]\", '', tweet)\n",
    "    \n",
    "    # Tokenize tweets\n",
    "    tweet_tokens = tokenizer.tokenize(tweet)\n",
    "    \n",
    "    tweets_clean = []\n",
    "    for word in tweet_tokens:\n",
    "        if (word not in stopwords_english and  \n",
    "            word not in string.punctuation and \n",
    "            word != '…'): \n",
    "            stem_word = stemmer.stem(word)  \n",
    "            tweets_clean.append(stem_word)\n",
    "    \n",
    "    \n",
    "    return tweets_clean\n",
    "\n",
    "\n",
    "### END CODE HERE ###"
   ]
  },
  {
   "cell_type": "code",
   "execution_count": 37,
   "metadata": {
    "id": "YjioQEB12koh",
    "outputId": "d51f755d-83d4-4730-acb0-308485ad3ab7"
   },
   "outputs": [
    {
     "data": {
      "text/html": [
       "<div>\n",
       "<style scoped>\n",
       "    .dataframe tbody tr th:only-of-type {\n",
       "        vertical-align: middle;\n",
       "    }\n",
       "\n",
       "    .dataframe tbody tr th {\n",
       "        vertical-align: top;\n",
       "    }\n",
       "\n",
       "    .dataframe thead th {\n",
       "        text-align: right;\n",
       "    }\n",
       "</style>\n",
       "<table border=\"1\" class=\"dataframe\">\n",
       "  <thead>\n",
       "    <tr style=\"text-align: right;\">\n",
       "      <th></th>\n",
       "      <th>id</th>\n",
       "      <th>created_at</th>\n",
       "      <th>text</th>\n",
       "      <th>preprocessed_tweet</th>\n",
       "    </tr>\n",
       "  </thead>\n",
       "  <tbody>\n",
       "    <tr>\n",
       "      <th>0</th>\n",
       "      <td>849636868052275200</td>\n",
       "      <td>2017-04-05 14:56:29</td>\n",
       "      <td>b'And so the robots spared humanity ... https:...</td>\n",
       "      <td>[robot, spare, human, ..., https://t.co/v7jujq...</td>\n",
       "    </tr>\n",
       "    <tr>\n",
       "      <th>1</th>\n",
       "      <td>848988730585096192</td>\n",
       "      <td>2017-04-03 20:01:01</td>\n",
       "      <td>b\"@ForIn2020 @waltmossberg @mims @defcon_5 Exa...</td>\n",
       "      <td>[exactli, tesla, absurdli, overvalu, base, pas...</td>\n",
       "    </tr>\n",
       "    <tr>\n",
       "      <th>2</th>\n",
       "      <td>848943072423497728</td>\n",
       "      <td>2017-04-03 16:59:35</td>\n",
       "      <td>b'@waltmossberg @mims @defcon_5 Et tu, Walt?'</td>\n",
       "      <td>[et, tu, walt]</td>\n",
       "    </tr>\n",
       "    <tr>\n",
       "      <th>3</th>\n",
       "      <td>848935705057280001</td>\n",
       "      <td>2017-04-03 16:30:19</td>\n",
       "      <td>b'Stormy weather in Shortville ...'</td>\n",
       "      <td>[stormi, weather, shortvil, ...]</td>\n",
       "    </tr>\n",
       "    <tr>\n",
       "      <th>4</th>\n",
       "      <td>848416049573658624</td>\n",
       "      <td>2017-04-02 06:05:23</td>\n",
       "      <td>b\"@DaveLeeBBC @verge Coal is dying due to nat ...</td>\n",
       "      <td>[coal, die, due, nat, ga, frack, basic, dead]</td>\n",
       "    </tr>\n",
       "    <tr>\n",
       "      <th>...</th>\n",
       "      <td>...</td>\n",
       "      <td>...</td>\n",
       "      <td>...</td>\n",
       "      <td>...</td>\n",
       "    </tr>\n",
       "    <tr>\n",
       "      <th>2814</th>\n",
       "      <td>142881284019060736</td>\n",
       "      <td>2011-12-03 08:22:07</td>\n",
       "      <td>b'That was a total non sequitur btw'</td>\n",
       "      <td>[total, non, sequitur, btw]</td>\n",
       "    </tr>\n",
       "    <tr>\n",
       "      <th>2815</th>\n",
       "      <td>142880871391838208</td>\n",
       "      <td>2011-12-03 08:20:28</td>\n",
       "      <td>b'Great Voltaire quote, arguably better than T...</td>\n",
       "      <td>[great, voltair, quot, arguabl, better, twain,...</td>\n",
       "    </tr>\n",
       "    <tr>\n",
       "      <th>2816</th>\n",
       "      <td>142188458125963264</td>\n",
       "      <td>2011-12-01 10:29:04</td>\n",
       "      <td>I made the volume on the Model S  go to 11.  N...</td>\n",
       "      <td>[made, volum, model, go, 11, need, work, minia...</td>\n",
       "    </tr>\n",
       "    <tr>\n",
       "      <th>2817</th>\n",
       "      <td>142179928203460608</td>\n",
       "      <td>2011-12-01 09:55:11</td>\n",
       "      <td>b\"Went to Iceland on Sat to ride bumper cars o...</td>\n",
       "      <td>[went, iceland, sat, ride, bumper, car, ice, c...</td>\n",
       "    </tr>\n",
       "    <tr>\n",
       "      <th>2818</th>\n",
       "      <td>15434727182</td>\n",
       "      <td>2010-06-04 18:31:57</td>\n",
       "      <td>b'Please ignore prior tweets, as that was some...</td>\n",
       "      <td>[pleas, ignor, prior, tweet, someon, pretend, ...</td>\n",
       "    </tr>\n",
       "  </tbody>\n",
       "</table>\n",
       "<p>2819 rows × 4 columns</p>\n",
       "</div>"
      ],
      "text/plain": [
       "                      id           created_at  \\\n",
       "0     849636868052275200  2017-04-05 14:56:29   \n",
       "1     848988730585096192  2017-04-03 20:01:01   \n",
       "2     848943072423497728  2017-04-03 16:59:35   \n",
       "3     848935705057280001  2017-04-03 16:30:19   \n",
       "4     848416049573658624  2017-04-02 06:05:23   \n",
       "...                  ...                  ...   \n",
       "2814  142881284019060736  2011-12-03 08:22:07   \n",
       "2815  142880871391838208  2011-12-03 08:20:28   \n",
       "2816  142188458125963264  2011-12-01 10:29:04   \n",
       "2817  142179928203460608  2011-12-01 09:55:11   \n",
       "2818         15434727182  2010-06-04 18:31:57   \n",
       "\n",
       "                                                   text  \\\n",
       "0     b'And so the robots spared humanity ... https:...   \n",
       "1     b\"@ForIn2020 @waltmossberg @mims @defcon_5 Exa...   \n",
       "2         b'@waltmossberg @mims @defcon_5 Et tu, Walt?'   \n",
       "3                   b'Stormy weather in Shortville ...'   \n",
       "4     b\"@DaveLeeBBC @verge Coal is dying due to nat ...   \n",
       "...                                                 ...   \n",
       "2814               b'That was a total non sequitur btw'   \n",
       "2815  b'Great Voltaire quote, arguably better than T...   \n",
       "2816  I made the volume on the Model S  go to 11.  N...   \n",
       "2817  b\"Went to Iceland on Sat to ride bumper cars o...   \n",
       "2818  b'Please ignore prior tweets, as that was some...   \n",
       "\n",
       "                                     preprocessed_tweet  \n",
       "0     [robot, spare, human, ..., https://t.co/v7jujq...  \n",
       "1     [exactli, tesla, absurdli, overvalu, base, pas...  \n",
       "2                                        [et, tu, walt]  \n",
       "3                      [stormi, weather, shortvil, ...]  \n",
       "4         [coal, die, due, nat, ga, frack, basic, dead]  \n",
       "...                                                 ...  \n",
       "2814                        [total, non, sequitur, btw]  \n",
       "2815  [great, voltair, quot, arguabl, better, twain,...  \n",
       "2816  [made, volum, model, go, 11, need, work, minia...  \n",
       "2817  [went, iceland, sat, ride, bumper, car, ice, c...  \n",
       "2818  [pleas, ignor, prior, tweet, someon, pretend, ...  \n",
       "\n",
       "[2819 rows x 4 columns]"
      ]
     },
     "metadata": {},
     "output_type": "display_data"
    }
   ],
   "source": [
    "### START CODE HERE (REPLACE INSTANCES OF 'None' with your code) ###\n",
    "\"\"\"\n",
    "Use the function to iterate through the original dataframe 'df' and preprocess each tweet into a new column \"preprocessed_tweets\". Pseudocode below. \n",
    "\n",
    "for i in len(df):\n",
    "  df[\"preprocessed_tweet\"][i] = preprocess_tweet(df[\"text\"][i])\n",
    "\n",
    "\n",
    "\"\"\"\n",
    "\n",
    "df['preprocessed_tweet'] = df['text'].apply(preprocess_tweet)\n",
    "\n",
    "### END CODE HERE ###\n",
    "\n",
    "display(df)"
   ]
  },
  {
   "cell_type": "markdown",
   "metadata": {
    "id": "MOFlGR0y2koi"
   },
   "source": [
    "## Part 1.3 Create a Levensthein Distance Formula"
   ]
  },
  {
   "cell_type": "markdown",
   "metadata": {
    "id": "km5cU90S2koj"
   },
   "source": [
    "Recall that Edit Distance is the similarity between two words represented numericallly. Levenstehin distance is one of the most common algorithms used in calculating the edit distance between two words. \n",
    "\n",
    "Create your own simple Levensthein distance function. Then return the results of the distance between two words: _stemming_ and _lemmatization_.\n"
   ]
  },
  {
   "cell_type": "code",
   "execution_count": 19,
   "metadata": {
    "id": "teSaHxFCykFP"
   },
   "outputs": [
    {
     "name": "stdout",
     "output_type": "stream",
     "text": [
      "Your Levensthein Distance is:  10\n"
     ]
    }
   ],
   "source": [
    "def leven_dist(string1, string2):\n",
    "    '''\n",
    "    input: \n",
    "        string1 = the first word in your formula\n",
    "        string2 = the second word in your formula\n",
    "    output: \n",
    "        levenschtein edit distance\n",
    "    \n",
    "    '''\n",
    "    #if min(i,j) =/= 0 \n",
    "    if not string1: return len(string2)\n",
    "    if not string2: return len(string1)\n",
    "    \n",
    "### START CODE HERE (REPLACE INSTANCES OF 'None' with your code) ###\n",
    "    #because min(i,j) =/= 0 then we min(i,j)\n",
    "    \n",
    "    return min(\n",
    "        \n",
    "        #part I. calculate the numerical position of letter i-1, j and add 1\n",
    "        leven_dist(string1[:-1], string2)+1, \n",
    "        \n",
    "\n",
    "        #part II: calculate the numerical position of letter i, j-1 and add 1\n",
    "        leven_dist(string1, string2[:-1])+1,\n",
    "        \n",
    "        # part III: if position i-1, j-1 are not the same letter, then add 1\n",
    "        leven_dist(string1[:-1], string2[:-1]) + (0 if string1[-1] == string2[-1] else 1))\n",
    "### END CODE HERE ###\n",
    "\n",
    "\n",
    "\n",
    "#now run your results\n",
    "\n",
    "string1 = 'stemming'\n",
    "string2 = 'lemmatization'\n",
    "print(\"Your Levensthein Distance is: \",leven_dist(string1,string2))"
   ]
  },
  {
   "cell_type": "markdown",
   "metadata": {
    "id": "9a5gh6B-2kok"
   },
   "source": [
    "### Expected output:\n",
    "Your Levensthein Distance is: 10"
   ]
  },
  {
   "cell_type": "markdown",
   "metadata": {
    "id": "J3PHkeRY2kol"
   },
   "source": [
    "#end of assignment#\n",
    "                                            \n",
    "Source: \n",
    "Natural Language preprocessing, deeplearning.ai\n",
    "Twitter API documentation\n",
    "Wikipedia: Levensthein Distance\n",
    "Chapter 2 (Jurafsky and Martin)\n",
    "                        \n"
   ]
  }
 ],
 "metadata": {
  "colab": {
   "include_colab_link": true,
   "provenance": [],
   "toc_visible": true
  },
  "kernelspec": {
   "display_name": "Python 3 (ipykernel)",
   "language": "python",
   "name": "python3"
  },
  "language_info": {
   "codemirror_mode": {
    "name": "ipython",
    "version": 3
   },
   "file_extension": ".py",
   "mimetype": "text/x-python",
   "name": "python",
   "nbconvert_exporter": "python",
   "pygments_lexer": "ipython3",
   "version": "3.11.4"
  }
 },
 "nbformat": 4,
 "nbformat_minor": 1
}
